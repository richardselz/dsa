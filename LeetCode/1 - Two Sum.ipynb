{
 "cells": [
  {
   "cell_type": "markdown",
   "metadata": {},
   "source": [
    "The following solutions are for LeetCode #1 [Two Sum](https://leetcode.com/problems/two-sum/)"
   ]
  },
  {
   "cell_type": "code",
   "execution_count": 29,
   "metadata": {},
   "outputs": [],
   "source": [
    "# Initialize the nums list and target int\n",
    "nums = [0,4,3,1]\n",
    "target = 5\n",
    "\n",
    "# Initialize List Type\n",
    "from typing import List"
   ]
  },
  {
   "cell_type": "code",
   "execution_count": 30,
   "metadata": {},
   "outputs": [],
   "source": [
    "# Solution 1\n",
    "class Solution1:\n",
    "    def twoSum(self, nums: List[int], target: int) -> List[int]:\n",
    "        nums_length = len(nums)\n",
    "        if nums_length < 2 and nums_length > pow(10,4):\n",
    "            return []\n",
    "\n",
    "        match_index = -1\n",
    "        for i,x in enumerate(nums):\n",
    "            find_number = target - x\n",
    "            remaining_numbers = nums[i+1:]\n",
    "            match_index = remaining_numbers.index(find_number)+1+i if find_number in remaining_numbers else -1\n",
    "            if match_index > -1:\n",
    "                return [i,match_index]"
   ]
  },
  {
   "cell_type": "code",
   "execution_count": 31,
   "metadata": {},
   "outputs": [],
   "source": [
    "# Solution 2 - from https://leetcode.com/problems/two-sum/discuss/17/Here-is-a-Python-solution-in-O(n)-time/1293748\n",
    "class Solution2:\n",
    "    def twoSum(self, nums: List[int], target: int) -> List[int]:\n",
    "        Hashmap = {}\n",
    "        for index, value in enumerate(nums):\n",
    "            key = target - value\n",
    "            if key in Hashmap:\n",
    "                return [Hashmap[key], index]\n",
    "            Hashmap[value] = index"
   ]
  },
  {
   "cell_type": "code",
   "execution_count": 32,
   "metadata": {},
   "outputs": [],
   "source": [
    "# Solution 3 - New Solution that was thought up upon returning to this algorithm\n",
    "class Solution3:\n",
    "    def twoSum(self, nums: List[int], target: int) -> List[int]:\n",
    "        visited = {}\n",
    "        \n",
    "        for i,num in enumerate(nums):\n",
    "            in_visited = target - num\n",
    "            if in_visited in visited.values():\n",
    "                return [list(visited.values()).index(in_visited), i]\n",
    "            visited[i] = num"
   ]
  },
  {
   "cell_type": "code",
   "execution_count": 33,
   "metadata": {},
   "outputs": [
    {
     "name": "stdout",
     "output_type": "stream",
     "text": [
      "Test1: [1, 3]\n",
      "Test1: [1, 3]\n",
      "Test1: [1, 3]\n"
     ]
    }
   ],
   "source": [
    "test1 = Solution1()\n",
    "print(f\"Test1: {test1.twoSum(nums, target)}\")\n",
    "\n",
    "test2 = Solution2()\n",
    "print(f\"Test1: {test2.twoSum(nums, target)}\")\n",
    "\n",
    "test3 = Solution3()\n",
    "print(f\"Test1: {test2.twoSum(nums, target)}\")"
   ]
  }
 ],
 "metadata": {
  "interpreter": {
   "hash": "9d8d2daac5608b9b97c536edfad231d880d0a7a59b083dc7e458cc0acd9d7784"
  },
  "kernelspec": {
   "display_name": "Python 3.9.0 64-bit",
   "language": "python",
   "name": "python3"
  },
  "language_info": {
   "codemirror_mode": {
    "name": "ipython",
    "version": 3
   },
   "file_extension": ".py",
   "mimetype": "text/x-python",
   "name": "python",
   "nbconvert_exporter": "python",
   "pygments_lexer": "ipython3",
   "version": "3.9.0"
  },
  "orig_nbformat": 4
 },
 "nbformat": 4,
 "nbformat_minor": 2
}
