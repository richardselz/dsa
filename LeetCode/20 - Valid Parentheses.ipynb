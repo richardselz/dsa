{
 "cells": [
  {
   "cell_type": "markdown",
   "metadata": {},
   "source": [
    "The following solutions are for LeetCode #20 [Valid Parentheses](https://leetcode.com/problems/valid-parentheses/)"
   ]
  },
  {
   "cell_type": "code",
   "execution_count": 1,
   "metadata": {},
   "outputs": [],
   "source": [
    "class Solution:\n",
    "    def isValid(self, s: str) -> bool:\n",
    "        # Store the possible brackets in a dictionary w/ the closing bracket as the key\n",
    "        # so that you can utilize it to retrieve the opening bracket character\n",
    "        opening_brackets = {')':'(', '}':'{', ']':'['}\n",
    "        \n",
    "        # Store all of the opening brackets in order so that you can later pop to check if \n",
    "        # the it is matching via the opening_brackets dictionary\n",
    "        open_stack = []\n",
    "        \n",
    "        for c in list(s):\n",
    "            if c in opening_brackets.values():\n",
    "                open_stack.append(c)\n",
    "            else:\n",
    "                if open_stack == [] or open_stack.pop() != opening_brackets[c]:\n",
    "                    return False\n",
    "        \n",
    "        return open_stack == []"
   ]
  },
  {
   "cell_type": "code",
   "execution_count": 2,
   "metadata": {},
   "outputs": [
    {
     "name": "stdout",
     "output_type": "stream",
     "text": [
      "Testing '(())[]' should be True: True\n",
      "Testing '(()[]' should be False: False\n"
     ]
    }
   ],
   "source": [
    "test1 = Solution()\n",
    "print(f\"Testing '(())[]' should be True: {test1.isValid('(())[]')}\")\n",
    "print(f\"Testing '(()[]' should be False: {test1.isValid('(()[]')}\")"
   ]
  }
 ],
 "metadata": {
  "interpreter": {
   "hash": "9d8d2daac5608b9b97c536edfad231d880d0a7a59b083dc7e458cc0acd9d7784"
  },
  "kernelspec": {
   "display_name": "Python 3.9.0 64-bit",
   "language": "python",
   "name": "python3"
  },
  "language_info": {
   "codemirror_mode": {
    "name": "ipython",
    "version": 3
   },
   "file_extension": ".py",
   "mimetype": "text/x-python",
   "name": "python",
   "nbconvert_exporter": "python",
   "pygments_lexer": "ipython3",
   "version": "3.9.0"
  },
  "orig_nbformat": 4
 },
 "nbformat": 4,
 "nbformat_minor": 2
}
