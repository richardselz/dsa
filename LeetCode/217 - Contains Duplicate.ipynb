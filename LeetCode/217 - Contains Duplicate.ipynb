{
 "cells": [
  {
   "cell_type": "markdown",
   "metadata": {},
   "source": [
    "The following solutions are for LeetCode #217 [Contains Duplicate](https://leetcode.com/problems/contains-duplicate/)"
   ]
  },
  {
   "cell_type": "code",
   "execution_count": 33,
   "metadata": {},
   "outputs": [],
   "source": [
    "# Initialize this prior to running any of the other algorithms so that nums list is created\n",
    "nums = [1,2,3,1]\n",
    "\n",
    "# Initialize this to make List work properly in subsequent cells\n",
    "from typing import List\n",
    "# Import time so we can time the different runs\n",
    "import time"
   ]
  },
  {
   "cell_type": "code",
   "execution_count": 34,
   "metadata": {},
   "outputs": [],
   "source": [
    "# Simple Solution\n",
    "class Solution1:\n",
    "    def containsDuplicate(self, nums: List[int]) -> bool:\n",
    "        if not nums: return False\n",
    "        return len(nums) != len(set(nums))\n",
    "        #return len(nums) > len(set(nums))"
   ]
  },
  {
   "cell_type": "code",
   "execution_count": 35,
   "metadata": {},
   "outputs": [],
   "source": [
    "# Another Solution\n",
    "class Solution2:\n",
    "    def containsDuplicate(self, nums: List[int]) -> bool:\n",
    "        if not nums: return False\n",
    "        for i in range(len(nums), 0, -1):\n",
    "           number = nums.pop(i-1)\n",
    "           if number in nums:\n",
    "               return True\n",
    "        \n",
    "        return False"
   ]
  },
  {
   "cell_type": "code",
   "execution_count": 36,
   "metadata": {},
   "outputs": [
    {
     "name": "stdout",
     "output_type": "stream",
     "text": [
      "Test1: True\n",
      "Test2: True\n"
     ]
    }
   ],
   "source": [
    "test1 = Solution1()\n",
    "print(f\"Test1: {test1.containsDuplicate(nums)}\")\n",
    "\n",
    "test2 = Solution2()\n",
    "print(f\"Test2: {test2.containsDuplicate(nums)}\")"
   ]
  }
 ],
 "metadata": {
  "interpreter": {
   "hash": "9d8d2daac5608b9b97c536edfad231d880d0a7a59b083dc7e458cc0acd9d7784"
  },
  "kernelspec": {
   "display_name": "Python 3.9.0 64-bit",
   "language": "python",
   "name": "python3"
  },
  "language_info": {
   "codemirror_mode": {
    "name": "ipython",
    "version": 3
   },
   "file_extension": ".py",
   "mimetype": "text/x-python",
   "name": "python",
   "nbconvert_exporter": "python",
   "pygments_lexer": "ipython3",
   "version": "3.9.0"
  },
  "orig_nbformat": 4
 },
 "nbformat": 4,
 "nbformat_minor": 2
}
