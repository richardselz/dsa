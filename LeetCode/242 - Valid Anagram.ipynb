{
 "cells": [
  {
   "cell_type": "markdown",
   "metadata": {},
   "source": [
    "The following solutions are for LeetCode #242 [Valid Anagram](https://leetcode.com/problems/valid-anagram/)"
   ]
  },
  {
   "cell_type": "code",
   "execution_count": 1,
   "metadata": {},
   "outputs": [],
   "source": [
    "# Initialize the two strings passed into the isAnagram function\n",
    "s = \"rat\"\n",
    "t = \"cat\"\n",
    "\n",
    "import collections"
   ]
  },
  {
   "cell_type": "code",
   "execution_count": 5,
   "metadata": {},
   "outputs": [],
   "source": [
    "# Simplest Solution - from https://leetcode.com/problems/valid-anagram/discuss/433680/Python-3-O(n)-Faster-than-98.39-Memory-usage-less-than-100\n",
    "class Solution1:\n",
    "    def isAnagram(self, s: str, t: str) -> bool:\n",
    "        return sorted(s) == sorted(t)"
   ]
  },
  {
   "cell_type": "code",
   "execution_count": 6,
   "metadata": {},
   "outputs": [],
   "source": [
    "# Another Simple Solution - from https://leetcode.com/problems/valid-anagram/discuss/433680/Python-3-O(n)-Faster-than-98.39-Memory-usage-less-than-100\n",
    "class Solution2:\n",
    "    def isAnagram(self, s: str, t: str) -> bool:\n",
    "        return collections.Counter(s) == collections.Counter(t)"
   ]
  },
  {
   "cell_type": "code",
   "execution_count": 7,
   "metadata": {},
   "outputs": [],
   "source": [
    "# Another Solution - from https://leetcode.com/problems/valid-anagram/discuss/433680/Python-3-O(n)-Faster-than-98.39-Memory-usage-less-than-100\n",
    "class Solution3:\n",
    "    def isAnagram(self, s: str, t: str) -> bool:\n",
    "        tracker = collections.defaultdict(int)\n",
    "        for x in s: tracker[x] += 1\n",
    "        for x in t: tracker[x] -= 1\n",
    "        return all(x == 0 for x in tracker.values())"
   ]
  },
  {
   "cell_type": "code",
   "execution_count": 9,
   "metadata": {},
   "outputs": [],
   "source": [
    "# Solution 4 - Initial Solution\n",
    "class Solution4:\n",
    "    def isAnagram(self, s: str, t: str) -> bool:\n",
    "        if len(s) != len(t):\n",
    "            return False\n",
    "        \n",
    "        dictionaryS = {}\n",
    "        dictionaryT = {}\n",
    "        \n",
    "        for i in s:\n",
    "            dictionaryS[i] = dictionaryS.get(i, 0) + 1\n",
    "            \n",
    "        for i in t:\n",
    "            dictionaryT[i] = dictionaryT.get(i, 0) + 1\n",
    "\n",
    "        return dictionaryT == dictionaryS"
   ]
  },
  {
   "cell_type": "code",
   "execution_count": 11,
   "metadata": {},
   "outputs": [
    {
     "name": "stdout",
     "output_type": "stream",
     "text": [
      "Test1: False\n",
      "Test2: False\n",
      "Test3: False\n",
      "Test4: False\n"
     ]
    }
   ],
   "source": [
    "test1 = Solution1()\n",
    "print(f\"Test1: {test1.isAnagram(s,t)}\")\n",
    "\n",
    "test2 = Solution2()\n",
    "print(f\"Test2: {test2.isAnagram(s,t)}\")\n",
    "\n",
    "test3 = Solution3()\n",
    "print(f\"Test3: {test3.isAnagram(s,t)}\")\n",
    "\n",
    "test4 = Solution4()\n",
    "print(f\"Test4: {test4.isAnagram(s,t)}\")"
   ]
  }
 ],
 "metadata": {
  "interpreter": {
   "hash": "9d8d2daac5608b9b97c536edfad231d880d0a7a59b083dc7e458cc0acd9d7784"
  },
  "kernelspec": {
   "display_name": "Python 3.9.0 64-bit",
   "language": "python",
   "name": "python3"
  },
  "language_info": {
   "codemirror_mode": {
    "name": "ipython",
    "version": 3
   },
   "file_extension": ".py",
   "mimetype": "text/x-python",
   "name": "python",
   "nbconvert_exporter": "python",
   "pygments_lexer": "ipython3",
   "version": "3.9.0"
  },
  "orig_nbformat": 4
 },
 "nbformat": 4,
 "nbformat_minor": 2
}
