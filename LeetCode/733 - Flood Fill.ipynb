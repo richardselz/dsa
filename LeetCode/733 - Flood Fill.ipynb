{
 "cells": [
  {
   "cell_type": "markdown",
   "metadata": {},
   "source": [
    "The following solutions are for LeetCode #733 [Flood Fill](https://leetcode.com/problems/flood-fill/)"
   ]
  },
  {
   "cell_type": "code",
   "execution_count": 1,
   "metadata": {},
   "outputs": [],
   "source": [
    "from typing import List\n",
    "\n",
    "# This solution utilizes DFS\n",
    "class Solution:\n",
    "    def floodFill(self, image: List[List[int]], sr: int, sc: int, color: int) -> List[List[int]]:\n",
    "        original_color = image[sr][sc]\n",
    "        directions = [(1,0),(0,1),(-1,0),(0,-1)]\n",
    "        row_range = [x for x in range(0, len(image))]\n",
    "        col_range = [x for x in range(0, len(image[0]))]\n",
    "        \n",
    "        def recurse(sr,sc):\n",
    "            if sr not in row_range or sc not in col_range or image[sr][sc] != original_color:\n",
    "                return\n",
    "            image[sr][sc] = color\n",
    "            for r, c in directions:\n",
    "                recurse(sr + r, sc + c)\n",
    "                \n",
    "        if original_color != color:\n",
    "            recurse(sr,sc)\n",
    "            \n",
    "        return image"
   ]
  },
  {
   "cell_type": "code",
   "execution_count": 2,
   "metadata": {},
   "outputs": [
    {
     "name": "stdout",
     "output_type": "stream",
     "text": [
      "[[2, 2, 2], [2, 2, 0], [2, 0, 1]]\n"
     ]
    }
   ],
   "source": [
    "image = [[1,1,1],[1,1,0],[1,0,1]]\n",
    "sr, sc, color = 1, 1, 2\n",
    "\n",
    "test = Solution()\n",
    "print(test.floodFill(image, sr, sc, color))"
   ]
  }
 ],
 "metadata": {
  "interpreter": {
   "hash": "9d8d2daac5608b9b97c536edfad231d880d0a7a59b083dc7e458cc0acd9d7784"
  },
  "kernelspec": {
   "display_name": "Python 3.9.0 64-bit",
   "language": "python",
   "name": "python3"
  },
  "language_info": {
   "codemirror_mode": {
    "name": "ipython",
    "version": 3
   },
   "file_extension": ".py",
   "mimetype": "text/x-python",
   "name": "python",
   "nbconvert_exporter": "python",
   "pygments_lexer": "ipython3",
   "version": "3.9.0"
  },
  "orig_nbformat": 4
 },
 "nbformat": 4,
 "nbformat_minor": 2
}
