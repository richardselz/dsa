{
 "cells": [
  {
   "cell_type": "markdown",
   "metadata": {},
   "source": [
    "The following solutions are for LeetCode #21 [Merged Two Sorted Lists](https://leetcode.com/problems/merge-two-sorted-lists/)"
   ]
  },
  {
   "cell_type": "code",
   "execution_count": 2,
   "metadata": {},
   "outputs": [],
   "source": [
    "# Initialize the ListNode class that LeetCode uses\n",
    "class ListNode:\n",
    "    def __init__(self, val=0, next=None):\n",
    "        self.val = val\n",
    "        self.next = next"
   ]
  },
  {
   "cell_type": "code",
   "execution_count": 3,
   "metadata": {},
   "outputs": [],
   "source": [
    "from typing import Optional\n",
    "class Solution:    \n",
    "    def mergeTwoLists(self, list1: Optional[ListNode], list2: Optional[ListNode]) -> Optional[ListNode]:\n",
    "        # Remember that you are returning a ListNode and not an array of values        \n",
    "        # Response holds the starting node and curr is the one that gets updated\n",
    "        response = curr = ListNode()\n",
    "        \n",
    "        while list1 and list2:\n",
    "            if list1.val < list2.val:\n",
    "                curr.next = list1\n",
    "                list1 = list1.next\n",
    "            else:\n",
    "                curr.next = list2\n",
    "                list2 = list2.next\n",
    "            \n",
    "            curr = curr.next\n",
    "            \n",
    "        curr.next = list1 or list2\n",
    "        \n",
    "        return response.next"
   ]
  },
  {
   "cell_type": "code",
   "execution_count": 4,
   "metadata": {},
   "outputs": [
    {
     "name": "stdout",
     "output_type": "stream",
     "text": [
      "Merged Two Sorted Lists: [1, 1, 1, 2, 4, 5, 7]\n"
     ]
    }
   ],
   "source": [
    "list1 = ListNode(val = 1, next = ListNode(val = 2, next = ListNode(val = 4, next = None))) #[1,2,4]\n",
    "list2 = ListNode(val = 1, next = ListNode(val = 1, next = ListNode(val = 5, next = ListNode(val = 7, next = None)))) #[1,1,5,7]\n",
    "\n",
    "test = Solution()\n",
    "response = test.mergeTwoLists(list1, list2)\n",
    "\n",
    "response_array = []\n",
    "\n",
    "while response:\n",
    "    response_array.append(response.val)\n",
    "    response = response.next\n",
    "\n",
    "print(f\"Merged Two Sorted Lists: {response_array}\")"
   ]
  }
 ],
 "metadata": {
  "interpreter": {
   "hash": "9d8d2daac5608b9b97c536edfad231d880d0a7a59b083dc7e458cc0acd9d7784"
  },
  "kernelspec": {
   "display_name": "Python 3.9.0 64-bit",
   "language": "python",
   "name": "python3"
  },
  "language_info": {
   "codemirror_mode": {
    "name": "ipython",
    "version": 3
   },
   "file_extension": ".py",
   "mimetype": "text/x-python",
   "name": "python",
   "nbconvert_exporter": "python",
   "pygments_lexer": "ipython3",
   "version": "3.9.0"
  },
  "orig_nbformat": 4
 },
 "nbformat": 4,
 "nbformat_minor": 2
}
